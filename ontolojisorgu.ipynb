{
  "nbformat": 4,
  "nbformat_minor": 0,
  "metadata": {
    "colab": {
      "name": "ontolojisorgu.ipynb",
      "provenance": [],
      "collapsed_sections": []
    },
    "kernelspec": {
      "name": "python3",
      "display_name": "Python 3"
    }
  },
  "cells": [
    {
      "cell_type": "code",
      "metadata": {
        "colab": {
          "base_uri": "https://localhost:8080/"
        },
        "id": "BBRmWbmeuBY5",
        "outputId": "cd825e39-7a4a-4fca-f9fd-023bd8d59717"
      },
      "source": [
        "! pip install rdflib"
      ],
      "execution_count": 1,
      "outputs": [
        {
          "output_type": "stream",
          "text": [
            "Collecting rdflib\n",
            "\u001b[?25l  Downloading https://files.pythonhosted.org/packages/d0/6b/6454aa1db753c0f8bc265a5bd5c10b5721a4bb24160fb4faf758cf6be8a1/rdflib-5.0.0-py3-none-any.whl (231kB)\n",
            "\u001b[K     |████████████████████████████████| 235kB 5.6MB/s \n",
            "\u001b[?25hRequirement already satisfied: six in /usr/local/lib/python3.7/dist-packages (from rdflib) (1.15.0)\n",
            "Requirement already satisfied: pyparsing in /usr/local/lib/python3.7/dist-packages (from rdflib) (2.4.7)\n",
            "Collecting isodate\n",
            "\u001b[?25l  Downloading https://files.pythonhosted.org/packages/9b/9f/b36f7774ff5ea8e428fdcfc4bb332c39ee5b9362ddd3d40d9516a55221b2/isodate-0.6.0-py2.py3-none-any.whl (45kB)\n",
            "\u001b[K     |████████████████████████████████| 51kB 4.9MB/s \n",
            "\u001b[?25hInstalling collected packages: isodate, rdflib\n",
            "Successfully installed isodate-0.6.0 rdflib-5.0.0\n"
          ],
          "name": "stdout"
        }
      ]
    },
    {
      "cell_type": "code",
      "metadata": {
        "id": "951zU4--uT24"
      },
      "source": [
        "import rdflib\n",
        "\n",
        "# create a Graph\n",
        "g = rdflib.Graph()\n",
        "\n",
        "# parse in an RDF file hosted on the Internet\n",
        "result = g.parse(\"OntologyFullVersion3.owl\")\n",
        "\n",
        "# loop through each triple in the graph (subj, pred, obj)\n",
        "for subj, pred, obj in g:\n",
        "    # check if there is at least one triple in the Graph\n",
        "    if (subj, pred, obj) not in g:\n",
        "       raise Exception(\"It better be!\")\n",
        "\n"
      ],
      "execution_count": 2,
      "outputs": []
    },
    {
      "cell_type": "code",
      "metadata": {
        "colab": {
          "base_uri": "https://localhost:8080/"
        },
        "id": "Alab_yphxFqH",
        "outputId": "dcfb9a28-1c0f-458d-bcb1-85991b64b197"
      },
      "source": [
        "import rdflib\n",
        "\n",
        "g = rdflib.Graph()\n",
        "\n",
        "# ... add some triples to g somehow ...\n",
        "g.parse(\"a.rdf\")\n",
        "\n",
        "\n"
      ],
      "execution_count": null,
      "outputs": [
        {
          "output_type": "execute_result",
          "data": {
            "text/plain": [
              "<Graph identifier=N21da9727b8794adea73670493579a169 (<class 'rdflib.graph.Graph'>)>"
            ]
          },
          "metadata": {
            "tags": []
          },
          "execution_count": 91
        }
      ]
    },
    {
      "cell_type": "code",
      "metadata": {
        "id": "AcklZaNWx8Bf"
      },
      "source": [
        "qres = g.query(\n",
        "    \"\"\"SELECT DISTINCT ?gün ?saat ?takvim\n",
        "       WHERE {?gün rdf:type ?takvim;\n",
        "           untitled-ontology-6:TypeOfDay ?saat;\n",
        "            FILTER regex(str(?takvim), \"Hafta_İci\"). FILTER regex(str(?gün), \"Salı\").\n",
        "       }\"\"\")"
      ],
      "execution_count": null,
      "outputs": []
    },
    {
      "cell_type": "code",
      "metadata": {
        "colab": {
          "base_uri": "https://localhost:8080/"
        },
        "id": "JIVJHNJD5JIZ",
        "outputId": "cef8cb5f-8d19-4785-d0e1-90b9fcb172de"
      },
      "source": [
        "for row in qres:\n",
        "    print(row)"
      ],
      "execution_count": null,
      "outputs": [
        {
          "output_type": "stream",
          "text": [
            "(rdflib.term.URIRef('http://www.semanticweb.org/rzye/ontologies/2020/11/untitled-ontology-6#Salı'), rdflib.term.Literal('10.30'), rdflib.term.URIRef('http://www.semanticweb.org/rzye/ontologies/2020/11/untitled-ontology-6#Hafta_İci'))\n"
          ],
          "name": "stdout"
        }
      ]
    },
    {
      "cell_type": "code",
      "metadata": {
        "id": "2khiJ2W8v8k_"
      },
      "source": [
        "qres2 = g.query(\n",
        "    \"\"\"SELECT DISTINCT ?duraktipi ?durak\n",
        "       WHERE {?duraktipi rdf:type ?takvim;\n",
        "           untitled-ontology-6:TypeOfStation ?durak;\n",
        "            FILTER regex(str(?duraktipi), \"Ara_Durak\")\n",
        "       }\"\"\")"
      ],
      "execution_count": null,
      "outputs": []
    },
    {
      "cell_type": "code",
      "metadata": {
        "colab": {
          "base_uri": "https://localhost:8080/"
        },
        "id": "n6vKkbfAwbgq",
        "outputId": "da221516-ecbe-4d0f-bd09-073ea8a464a6"
      },
      "source": [
        "for row in qres2:\n",
        "    print(row)"
      ],
      "execution_count": null,
      "outputs": [
        {
          "output_type": "stream",
          "text": [
            "(rdflib.term.URIRef('http://www.semanticweb.org/rzye/ontologies/2020/11/untitled-ontology-6#Ara_Durak2'), rdflib.term.Literal('Forum Aydın'))\n",
            "(rdflib.term.URIRef('http://www.semanticweb.org/rzye/ontologies/2020/11/untitled-ontology-6#Ara_Durak'), rdflib.term.Literal('Zafer Meydanı'))\n"
          ],
          "name": "stdout"
        }
      ]
    },
    {
      "cell_type": "code",
      "metadata": {
        "id": "6HUMmErswo0X"
      },
      "source": [
        "qres3 = g.query(\n",
        "    \"\"\"SELECT DISTINCT ?duraktipi ?durak\n",
        "       WHERE {?duraktipi rdf:type ?takvim;\n",
        "           untitled-ontology-6:TypeOfStation ?durak;\n",
        "            FILTER regex(str(?duraktipi), \"Son_Durak\")\n",
        "       }\"\"\")"
      ],
      "execution_count": null,
      "outputs": []
    },
    {
      "cell_type": "code",
      "metadata": {
        "colab": {
          "base_uri": "https://localhost:8080/"
        },
        "id": "jasA7Evwwwx8",
        "outputId": "fee6a243-f5c9-4d04-a81e-58a88df11e4e"
      },
      "source": [
        "for row in qres3:\n",
        "    print(row)"
      ],
      "execution_count": null,
      "outputs": [
        {
          "output_type": "stream",
          "text": [
            "(rdflib.term.URIRef('http://www.semanticweb.org/rzye/ontologies/2020/11/untitled-ontology-6#Son_Durak'), rdflib.term.Literal('Üniversite'))\n"
          ],
          "name": "stdout"
        }
      ]
    },
    {
      "cell_type": "code",
      "metadata": {
        "id": "_AnVKolFw4lI"
      },
      "source": [
        "qres4 = g.query(\n",
        "    \"\"\"SELECT DISTINCT ?gün ?saat ?takvim\n",
        "       WHERE {?gün rdf:type ?takvim;\n",
        "           untitled-ontology-6:TypeOfDay ?saat;\n",
        "           FILTER regex(str(?takvim), \"Hafta_İci\")\n",
        "       }\"\"\")"
      ],
      "execution_count": null,
      "outputs": []
    },
    {
      "cell_type": "code",
      "metadata": {
        "colab": {
          "base_uri": "https://localhost:8080/"
        },
        "id": "RZE8NotxxLQg",
        "outputId": "8d626b47-5906-4263-ef7c-b49955131098"
      },
      "source": [
        "for row in qres4:\n",
        "    print( row)"
      ],
      "execution_count": null,
      "outputs": [
        {
          "output_type": "stream",
          "text": [
            "(rdflib.term.URIRef('http://www.semanticweb.org/rzye/ontologies/2020/11/untitled-ontology-6#Pazartesi'), rdflib.term.Literal('10.30'), rdflib.term.URIRef('http://www.semanticweb.org/rzye/ontologies/2020/11/untitled-ontology-6#Hafta_İci'))\n",
            "(rdflib.term.URIRef('http://www.semanticweb.org/rzye/ontologies/2020/11/untitled-ontology-6#Salı'), rdflib.term.Literal('10.30'), rdflib.term.URIRef('http://www.semanticweb.org/rzye/ontologies/2020/11/untitled-ontology-6#Hafta_İci'))\n",
            "(rdflib.term.URIRef('http://www.semanticweb.org/rzye/ontologies/2020/11/untitled-ontology-6#Çarşamba'), rdflib.term.Literal('10.30'), rdflib.term.URIRef('http://www.semanticweb.org/rzye/ontologies/2020/11/untitled-ontology-6#Hafta_İci'))\n",
            "(rdflib.term.URIRef('http://www.semanticweb.org/rzye/ontologies/2020/11/untitled-ontology-6#Cuma'), rdflib.term.Literal('10.30'), rdflib.term.URIRef('http://www.semanticweb.org/rzye/ontologies/2020/11/untitled-ontology-6#Hafta_İci'))\n",
            "(rdflib.term.URIRef('http://www.semanticweb.org/rzye/ontologies/2020/11/untitled-ontology-6#Perşembe'), rdflib.term.Literal('10.30'), rdflib.term.URIRef('http://www.semanticweb.org/rzye/ontologies/2020/11/untitled-ontology-6#Hafta_İci'))\n"
          ],
          "name": "stdout"
        }
      ]
    }
  ]
}